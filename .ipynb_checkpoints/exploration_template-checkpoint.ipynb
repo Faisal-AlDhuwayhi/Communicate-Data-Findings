{
 "cells": [
  {
   "cell_type": "markdown",
   "metadata": {},
   "source": [
    "# Flights Dataset\n",
    "## by Faisal AlDhuwayhi\n",
    "\n",
    "## Preliminary Wrangling\n",
    "\n",
    "> This dataset reports flights of California state, of the year of 2019. Flights that are going into California or going outside of California. Including variables like destinations, arrival and departure delays, and more other features."
   ]
  },
  {
   "cell_type": "code",
   "execution_count": 171,
   "metadata": {},
   "outputs": [],
   "source": [
    "# import all packages and set plots to be embedded inline\n",
    "import numpy as np\n",
    "import pandas as pd\n",
    "import matplotlib.pyplot as plt\n",
    "import seaborn as sb\n",
    "\n",
    "%matplotlib inline"
   ]
  },
  {
   "cell_type": "markdown",
   "metadata": {},
   "source": [
    "> Loading in your dataset and figuring its properties."
   ]
  },
  {
   "cell_type": "code",
   "execution_count": 208,
   "metadata": {},
   "outputs": [],
   "source": [
    "# import the data\n",
    "import os\n",
    "\n",
    "flights = pd.DataFrame()\n",
    "for month in os.listdir('./dataset_flights_2019/California/'):\n",
    "    if month != '.DS_Store':\n",
    "        temp_df = pd.read_csv('./dataset_flights_2019/California/'+month)\n",
    "        flights = flights.append(temp_df, ignore_index=True)"
   ]
  },
  {
   "cell_type": "code",
   "execution_count": 209,
   "metadata": {},
   "outputs": [],
   "source": [
    "# drop a defective columns \n",
    "flights.drop('Unnamed: 17', axis=1, inplace=True)"
   ]
  },
  {
   "cell_type": "code",
   "execution_count": 210,
   "metadata": {},
   "outputs": [
    {
     "data": {
      "text/plain": [
       "(1379233, 17)"
      ]
     },
     "execution_count": 210,
     "metadata": {},
     "output_type": "execute_result"
    }
   ],
   "source": [
    "# let's look at the size of the dataset\n",
    "flights.shape"
   ]
  },
  {
   "cell_type": "code",
   "execution_count": 211,
   "metadata": {},
   "outputs": [
    {
     "data": {
      "text/html": [
       "<div>\n",
       "<style scoped>\n",
       "    .dataframe tbody tr th:only-of-type {\n",
       "        vertical-align: middle;\n",
       "    }\n",
       "\n",
       "    .dataframe tbody tr th {\n",
       "        vertical-align: top;\n",
       "    }\n",
       "\n",
       "    .dataframe thead th {\n",
       "        text-align: right;\n",
       "    }\n",
       "</style>\n",
       "<table border=\"1\" class=\"dataframe\">\n",
       "  <thead>\n",
       "    <tr style=\"text-align: right;\">\n",
       "      <th></th>\n",
       "      <th>QUARTER</th>\n",
       "      <th>MONTH</th>\n",
       "      <th>DAY_OF_MONTH</th>\n",
       "      <th>DAY_OF_WEEK</th>\n",
       "      <th>ORIGIN_CITY_NAME</th>\n",
       "      <th>DEST_CITY_NAME</th>\n",
       "      <th>CRS_DEP_TIME</th>\n",
       "      <th>DEP_TIME</th>\n",
       "      <th>DEP_DELAY</th>\n",
       "      <th>CRS_ARR_TIME</th>\n",
       "      <th>ARR_TIME</th>\n",
       "      <th>ARR_DELAY</th>\n",
       "      <th>CANCELLED</th>\n",
       "      <th>CANCELLATION_CODE</th>\n",
       "      <th>CRS_ELAPSED_TIME</th>\n",
       "      <th>ACTUAL_ELAPSED_TIME</th>\n",
       "      <th>DISTANCE</th>\n",
       "    </tr>\n",
       "  </thead>\n",
       "  <tbody>\n",
       "    <tr>\n",
       "      <th>0</th>\n",
       "      <td>2</td>\n",
       "      <td>4</td>\n",
       "      <td>1</td>\n",
       "      <td>1</td>\n",
       "      <td>San Diego, CA</td>\n",
       "      <td>Las Vegas, NV</td>\n",
       "      <td>650</td>\n",
       "      <td>638.0</td>\n",
       "      <td>-12.0</td>\n",
       "      <td>815</td>\n",
       "      <td>748.0</td>\n",
       "      <td>-27.0</td>\n",
       "      <td>0.0</td>\n",
       "      <td>NaN</td>\n",
       "      <td>85.0</td>\n",
       "      <td>70.0</td>\n",
       "      <td>258.0</td>\n",
       "    </tr>\n",
       "    <tr>\n",
       "      <th>1</th>\n",
       "      <td>2</td>\n",
       "      <td>4</td>\n",
       "      <td>2</td>\n",
       "      <td>2</td>\n",
       "      <td>San Diego, CA</td>\n",
       "      <td>Las Vegas, NV</td>\n",
       "      <td>650</td>\n",
       "      <td>641.0</td>\n",
       "      <td>-9.0</td>\n",
       "      <td>815</td>\n",
       "      <td>800.0</td>\n",
       "      <td>-15.0</td>\n",
       "      <td>0.0</td>\n",
       "      <td>NaN</td>\n",
       "      <td>85.0</td>\n",
       "      <td>79.0</td>\n",
       "      <td>258.0</td>\n",
       "    </tr>\n",
       "    <tr>\n",
       "      <th>2</th>\n",
       "      <td>2</td>\n",
       "      <td>4</td>\n",
       "      <td>3</td>\n",
       "      <td>3</td>\n",
       "      <td>San Diego, CA</td>\n",
       "      <td>Las Vegas, NV</td>\n",
       "      <td>650</td>\n",
       "      <td>645.0</td>\n",
       "      <td>-5.0</td>\n",
       "      <td>815</td>\n",
       "      <td>811.0</td>\n",
       "      <td>-4.0</td>\n",
       "      <td>0.0</td>\n",
       "      <td>NaN</td>\n",
       "      <td>85.0</td>\n",
       "      <td>86.0</td>\n",
       "      <td>258.0</td>\n",
       "    </tr>\n",
       "    <tr>\n",
       "      <th>3</th>\n",
       "      <td>2</td>\n",
       "      <td>4</td>\n",
       "      <td>4</td>\n",
       "      <td>4</td>\n",
       "      <td>San Diego, CA</td>\n",
       "      <td>Las Vegas, NV</td>\n",
       "      <td>650</td>\n",
       "      <td>644.0</td>\n",
       "      <td>-6.0</td>\n",
       "      <td>815</td>\n",
       "      <td>756.0</td>\n",
       "      <td>-19.0</td>\n",
       "      <td>0.0</td>\n",
       "      <td>NaN</td>\n",
       "      <td>85.0</td>\n",
       "      <td>72.0</td>\n",
       "      <td>258.0</td>\n",
       "    </tr>\n",
       "    <tr>\n",
       "      <th>4</th>\n",
       "      <td>2</td>\n",
       "      <td>4</td>\n",
       "      <td>5</td>\n",
       "      <td>5</td>\n",
       "      <td>San Diego, CA</td>\n",
       "      <td>Las Vegas, NV</td>\n",
       "      <td>650</td>\n",
       "      <td>651.0</td>\n",
       "      <td>1.0</td>\n",
       "      <td>815</td>\n",
       "      <td>814.0</td>\n",
       "      <td>-1.0</td>\n",
       "      <td>0.0</td>\n",
       "      <td>NaN</td>\n",
       "      <td>85.0</td>\n",
       "      <td>83.0</td>\n",
       "      <td>258.0</td>\n",
       "    </tr>\n",
       "  </tbody>\n",
       "</table>\n",
       "</div>"
      ],
      "text/plain": [
       "   QUARTER  MONTH  DAY_OF_MONTH  DAY_OF_WEEK ORIGIN_CITY_NAME DEST_CITY_NAME  \\\n",
       "0        2      4             1            1    San Diego, CA  Las Vegas, NV   \n",
       "1        2      4             2            2    San Diego, CA  Las Vegas, NV   \n",
       "2        2      4             3            3    San Diego, CA  Las Vegas, NV   \n",
       "3        2      4             4            4    San Diego, CA  Las Vegas, NV   \n",
       "4        2      4             5            5    San Diego, CA  Las Vegas, NV   \n",
       "\n",
       "   CRS_DEP_TIME  DEP_TIME  DEP_DELAY  CRS_ARR_TIME  ARR_TIME  ARR_DELAY  \\\n",
       "0           650     638.0      -12.0           815     748.0      -27.0   \n",
       "1           650     641.0       -9.0           815     800.0      -15.0   \n",
       "2           650     645.0       -5.0           815     811.0       -4.0   \n",
       "3           650     644.0       -6.0           815     756.0      -19.0   \n",
       "4           650     651.0        1.0           815     814.0       -1.0   \n",
       "\n",
       "   CANCELLED CANCELLATION_CODE  CRS_ELAPSED_TIME  ACTUAL_ELAPSED_TIME  \\\n",
       "0        0.0               NaN              85.0                 70.0   \n",
       "1        0.0               NaN              85.0                 79.0   \n",
       "2        0.0               NaN              85.0                 86.0   \n",
       "3        0.0               NaN              85.0                 72.0   \n",
       "4        0.0               NaN              85.0                 83.0   \n",
       "\n",
       "   DISTANCE  \n",
       "0     258.0  \n",
       "1     258.0  \n",
       "2     258.0  \n",
       "3     258.0  \n",
       "4     258.0  "
      ]
     },
     "execution_count": 211,
     "metadata": {},
     "output_type": "execute_result"
    }
   ],
   "source": [
    "# have a general look at it \n",
    "flights.head()"
   ]
  },
  {
   "cell_type": "code",
   "execution_count": 212,
   "metadata": {},
   "outputs": [
    {
     "name": "stdout",
     "output_type": "stream",
     "text": [
      "<class 'pandas.core.frame.DataFrame'>\n",
      "RangeIndex: 1379233 entries, 0 to 1379232\n",
      "Data columns (total 17 columns):\n",
      " #   Column               Non-Null Count    Dtype  \n",
      "---  ------               --------------    -----  \n",
      " 0   QUARTER              1379233 non-null  int64  \n",
      " 1   MONTH                1379233 non-null  int64  \n",
      " 2   DAY_OF_MONTH         1379233 non-null  int64  \n",
      " 3   DAY_OF_WEEK          1379233 non-null  int64  \n",
      " 4   ORIGIN_CITY_NAME     1379233 non-null  object \n",
      " 5   DEST_CITY_NAME       1379233 non-null  object \n",
      " 6   CRS_DEP_TIME         1379233 non-null  int64  \n",
      " 7   DEP_TIME             1358922 non-null  float64\n",
      " 8   DEP_DELAY            1358921 non-null  float64\n",
      " 9   CRS_ARR_TIME         1379233 non-null  int64  \n",
      " 10  ARR_TIME             1357678 non-null  float64\n",
      " 11  ARR_DELAY            1355040 non-null  float64\n",
      " 12  CANCELLED            1379233 non-null  float64\n",
      " 13  CANCELLATION_CODE    20859 non-null    object \n",
      " 14  CRS_ELAPSED_TIME     1379233 non-null  float64\n",
      " 15  ACTUAL_ELAPSED_TIME  1355040 non-null  float64\n",
      " 16  DISTANCE             1379233 non-null  float64\n",
      "dtypes: float64(8), int64(6), object(3)\n",
      "memory usage: 178.9+ MB\n"
     ]
    }
   ],
   "source": [
    "# properties of the dataset\n",
    "flights.info(null_counts=True)"
   ]
  },
  {
   "cell_type": "code",
   "execution_count": 213,
   "metadata": {},
   "outputs": [],
   "source": [
    "# we need to clean some issue on the data\n",
    "flights_master = flights.copy()"
   ]
  },
  {
   "cell_type": "code",
   "execution_count": 214,
   "metadata": {},
   "outputs": [
    {
     "name": "stdout",
     "output_type": "stream",
     "text": [
      "Before removing duplicates: 6\n",
      "After removing duplicates: 0\n"
     ]
    }
   ],
   "source": [
    "# check duplicates and remove it\n",
    "print(\"Before removing duplicates:\", flights_master.duplicated().sum())\n",
    "\n",
    "flights_master = flights_master[~flights_master.duplicated()]\n",
    "\n",
    "print(\"After removing duplicates:\", flights_master.duplicated().sum())"
   ]
  },
  {
   "cell_type": "code",
   "execution_count": 215,
   "metadata": {},
   "outputs": [
    {
     "data": {
      "text/plain": [
       "Index(['quarter', 'month', 'day_of_month', 'day_of_week', 'origin_city_name',\n",
       "       'dest_city_name', 'crs_dep_time', 'dep_time', 'dep_delay',\n",
       "       'crs_arr_time', 'arr_time', 'arr_delay', 'cancelled',\n",
       "       'cancellation_code', 'crs_elapsed_time', 'actual_elapsed_time',\n",
       "       'distance'],\n",
       "      dtype='object')"
      ]
     },
     "execution_count": 215,
     "metadata": {},
     "output_type": "execute_result"
    }
   ],
   "source": [
    "# make all the columns names as lowercase to make the indexing easier\n",
    "flights_master.columns = [column.lower() for column in flights_master.columns.tolist()]\n",
    "flights_master.columns"
   ]
  },
  {
   "cell_type": "code",
   "execution_count": 216,
   "metadata": {},
   "outputs": [],
   "source": [
    "# split the city and the state in different columns\n",
    "\n",
    "# origin state and city\n",
    "origin_city_state = flights_master.origin_city_name.str.split(', ')\n",
    "flights_master['origin_city_name'] = origin_city_state.apply(lambda x : x[0])\n",
    "origin_state_name = origin_city_state.apply(lambda x : x[1])\n",
    "\n",
    "index = flights_master.columns.get_loc(\"origin_city_name\")\n",
    "flights_master.insert(loc=index+1, column='origin_state_name', value=origin_state_name)\n",
    "\n",
    "\n",
    "# destination state and city\n",
    "dest_city_state = flights_master.dest_city_name.str.split(', ')\n",
    "flights_master['dest_city_name'] = dest_city_state.apply(lambda x : x[0])\n",
    "dest_state_name = dest_city_state.apply(lambda x : x[1])\n",
    "\n",
    "index = flights_master.columns.get_loc(\"dest_city_name\")\n",
    "flights_master.insert(loc=index+1, column='dest_state_name', value=dest_state_name)"
   ]
  },
  {
   "cell_type": "code",
   "execution_count": 217,
   "metadata": {},
   "outputs": [
    {
     "data": {
      "text/html": [
       "<div>\n",
       "<style scoped>\n",
       "    .dataframe tbody tr th:only-of-type {\n",
       "        vertical-align: middle;\n",
       "    }\n",
       "\n",
       "    .dataframe tbody tr th {\n",
       "        vertical-align: top;\n",
       "    }\n",
       "\n",
       "    .dataframe thead th {\n",
       "        text-align: right;\n",
       "    }\n",
       "</style>\n",
       "<table border=\"1\" class=\"dataframe\">\n",
       "  <thead>\n",
       "    <tr style=\"text-align: right;\">\n",
       "      <th></th>\n",
       "      <th>quarter</th>\n",
       "      <th>month</th>\n",
       "      <th>day_of_month</th>\n",
       "      <th>day_of_week</th>\n",
       "      <th>origin_city_name</th>\n",
       "      <th>origin_state_name</th>\n",
       "      <th>dest_city_name</th>\n",
       "      <th>dest_state_name</th>\n",
       "      <th>crs_dep_time</th>\n",
       "      <th>dep_time</th>\n",
       "      <th>dep_delay</th>\n",
       "      <th>crs_arr_time</th>\n",
       "      <th>arr_time</th>\n",
       "      <th>arr_delay</th>\n",
       "      <th>cancelled</th>\n",
       "      <th>cancellation_code</th>\n",
       "      <th>crs_elapsed_time</th>\n",
       "      <th>actual_elapsed_time</th>\n",
       "      <th>distance</th>\n",
       "    </tr>\n",
       "  </thead>\n",
       "  <tbody>\n",
       "    <tr>\n",
       "      <th>53901</th>\n",
       "      <td>2</td>\n",
       "      <td>4</td>\n",
       "      <td>3</td>\n",
       "      <td>3</td>\n",
       "      <td>Las Vegas</td>\n",
       "      <td>NV</td>\n",
       "      <td>Los Angeles</td>\n",
       "      <td>CA</td>\n",
       "      <td>1700</td>\n",
       "      <td>1651.0</td>\n",
       "      <td>-9.0</td>\n",
       "      <td>1815</td>\n",
       "      <td>1813.0</td>\n",
       "      <td>-2.0</td>\n",
       "      <td>0.0</td>\n",
       "      <td>NaN</td>\n",
       "      <td>75.0</td>\n",
       "      <td>82.0</td>\n",
       "      <td>236.0</td>\n",
       "    </tr>\n",
       "  </tbody>\n",
       "</table>\n",
       "</div>"
      ],
      "text/plain": [
       "       quarter  month  day_of_month  day_of_week origin_city_name  \\\n",
       "53901        2      4             3            3        Las Vegas   \n",
       "\n",
       "      origin_state_name dest_city_name dest_state_name  crs_dep_time  \\\n",
       "53901                NV    Los Angeles              CA          1700   \n",
       "\n",
       "       dep_time  dep_delay  crs_arr_time  arr_time  arr_delay  cancelled  \\\n",
       "53901    1651.0       -9.0          1815    1813.0       -2.0        0.0   \n",
       "\n",
       "      cancellation_code  crs_elapsed_time  actual_elapsed_time  distance  \n",
       "53901               NaN              75.0                 82.0     236.0  "
      ]
     },
     "execution_count": 217,
     "metadata": {},
     "output_type": "execute_result"
    }
   ],
   "source": [
    "flights_master.sample()"
   ]
  },
  {
   "cell_type": "code",
   "execution_count": 218,
   "metadata": {},
   "outputs": [],
   "source": [
    "# change the cancellation_code to the real variable and make it as a category variable\n",
    "\n",
    "# this conversion is from the documentation of the dataset\n",
    "conversions = {'A' : 'Carrier', 'B' : 'Weather', 'C' : 'National Air System', 'D' : 'Security'}\n",
    "\n",
    "flights_master['cancellation_code'] = flights_master.cancellation_code.apply(lambda x : conversions.get(x, np.nan))\n",
    "flights_master['cancellation_code'] = flights_master['cancellation_code'].astype('category')"
   ]
  },
  {
   "cell_type": "code",
   "execution_count": 219,
   "metadata": {},
   "outputs": [
    {
     "data": {
      "text/plain": [
       "Carrier                10608\n",
       "Weather                 7127\n",
       "National Air System     3114\n",
       "Security                   8\n",
       "Name: cancellation_code, dtype: int64"
      ]
     },
     "execution_count": 219,
     "metadata": {},
     "output_type": "execute_result"
    }
   ],
   "source": [
    "flights_master.cancellation_code.value_counts()"
   ]
  },
  {
   "cell_type": "code",
   "execution_count": 220,
   "metadata": {},
   "outputs": [],
   "source": [
    "# change of day_of_week to the names of the days and make it categorical\n",
    "import calendar\n",
    "\n",
    "flights_master['day_of_week'] = flights_master.day_of_week.apply(lambda x : calendar.day_name[x-1])\n",
    "\n",
    "categories = ['Monday', 'Tuesday', 'Wednesday', 'Thursday', 'Friday', 'Saturday', 'Sunday']\n",
    "dtype = pd.api.types.CategoricalDtype(categories=categories, ordered=True)\n",
    "flights_master['day_of_week'] = flights_master['day_of_week'].astype(dtype)"
   ]
  },
  {
   "cell_type": "code",
   "execution_count": 221,
   "metadata": {},
   "outputs": [
    {
     "data": {
      "text/plain": [
       "Monday       206100\n",
       "Friday       205623\n",
       "Thursday     203987\n",
       "Tuesday      201032\n",
       "Wednesday    200310\n",
       "Sunday       194952\n",
       "Saturday     167223\n",
       "Name: day_of_week, dtype: int64"
      ]
     },
     "execution_count": 221,
     "metadata": {},
     "output_type": "execute_result"
    }
   ],
   "source": [
    "flights_master.day_of_week.value_counts()"
   ]
  },
  {
   "cell_type": "code",
   "execution_count": 222,
   "metadata": {},
   "outputs": [],
   "source": [
    "# change of month numbers to the names of the months and make it categorical\n",
    "flights_master['month'] = flights_master.month.apply(lambda x : calendar.month_name[x])\n",
    "\n",
    "categories = ['January', 'February', 'March', 'April', 'May', 'June', 'July', 'August', 'September', 'October',\n",
    "              'November', 'December']\n",
    "dtype = pd.api.types.CategoricalDtype(categories=categories, ordered=True)\n",
    "flights_master['month'] = flights_master['month'].astype(dtype)"
   ]
  },
  {
   "cell_type": "code",
   "execution_count": 223,
   "metadata": {},
   "outputs": [
    {
     "data": {
      "text/plain": [
       "August       125957\n",
       "July         124471\n",
       "June         118327\n",
       "October      117693\n",
       "December     116963\n",
       "May          116042\n",
       "March        114859\n",
       "September    112764\n",
       "April        112191\n",
       "November     111026\n",
       "January      109798\n",
       "February      99136\n",
       "Name: month, dtype: int64"
      ]
     },
     "execution_count": 223,
     "metadata": {},
     "output_type": "execute_result"
    }
   ],
   "source": [
    "flights_master.month.value_counts()"
   ]
  },
  {
   "cell_type": "code",
   "execution_count": 224,
   "metadata": {},
   "outputs": [],
   "source": [
    "# change the quarters to be categorical variable\n",
    "flights_master['quarter'] = flights_master['quarter'].astype(str)\n",
    "conversions = {'1' : 'First', '2' : 'Second', '3' : 'Third', '4' : 'Forth'}\n",
    "flights_master['quarter'] = flights_master.quarter.apply(lambda x : conversions[x])\n",
    "\n",
    "categories = ['First', 'Second', 'Third', 'Forth']\n",
    "dtype = pd.api.types.CategoricalDtype(categories=categories, ordered=True)\n",
    "flights_master['quarter'] = flights_master['quarter'].astype(dtype)"
   ]
  },
  {
   "cell_type": "code",
   "execution_count": 225,
   "metadata": {},
   "outputs": [
    {
     "data": {
      "text/plain": [
       "Third     363192\n",
       "Second    346560\n",
       "Forth     345682\n",
       "First     323793\n",
       "Name: quarter, dtype: int64"
      ]
     },
     "execution_count": 225,
     "metadata": {},
     "output_type": "execute_result"
    }
   ],
   "source": [
    "flights_master.quarter.value_counts()"
   ]
  },
  {
   "cell_type": "code",
   "execution_count": 226,
   "metadata": {},
   "outputs": [],
   "source": [
    "# Remove the nan values\n",
    "flights_master.drop(flights_master[flights_master.actual_elapsed_time.isna()].index, inplace=True)"
   ]
  },
  {
   "cell_type": "code",
   "execution_count": 227,
   "metadata": {},
   "outputs": [],
   "source": [
    "# convert the types of some variables to integer\n",
    "flights_master['dep_time'] = flights_master.dep_time.astype(int)\n",
    "flights_master['dep_delay'] = flights_master.dep_delay.astype(int)\n",
    "flights_master['arr_time'] = flights_master.arr_time.astype(int)\n",
    "flights_master['arr_delay'] = flights_master.arr_delay.astype(int)\n",
    "flights_master['crs_elapsed_time'] = flights_master.crs_elapsed_time.astype(int)\n",
    "flights_master['actual_elapsed_time'] = flights_master.actual_elapsed_time.astype(int)\n",
    "flights_master['cancelled'] = flights_master.cancelled.astype(int)"
   ]
  },
  {
   "cell_type": "code",
   "execution_count": 228,
   "metadata": {},
   "outputs": [
    {
     "data": {
      "text/plain": [
       "quarter                category\n",
       "month                  category\n",
       "day_of_month              int64\n",
       "day_of_week            category\n",
       "origin_city_name         object\n",
       "origin_state_name        object\n",
       "dest_city_name           object\n",
       "dest_state_name          object\n",
       "crs_dep_time              int64\n",
       "dep_time                  int64\n",
       "dep_delay                 int64\n",
       "crs_arr_time              int64\n",
       "arr_time                  int64\n",
       "arr_delay                 int64\n",
       "cancelled                 int64\n",
       "cancellation_code      category\n",
       "crs_elapsed_time          int64\n",
       "actual_elapsed_time       int64\n",
       "distance                float64\n",
       "dtype: object"
      ]
     },
     "execution_count": 228,
     "metadata": {},
     "output_type": "execute_result"
    }
   ],
   "source": [
    "flights_master.dtypes"
   ]
  },
  {
   "cell_type": "code",
   "execution_count": 229,
   "metadata": {},
   "outputs": [],
   "source": [
    "# convert hhmm format to time format hh:mm:ss, and also keeping the original\n",
    "def str_to_time(time):\n",
    "    time = str(time)\n",
    "    new_time = ''\n",
    "    if len(time) == 1:\n",
    "        new_time = \"00:0{}:00\".format(time)\n",
    "    elif len(time) == 2:\n",
    "        new_time = \"00:{}:00\".format(time)\n",
    "    elif len(time) == 3:\n",
    "        timeh = time[0]\n",
    "        timem = time[1:]\n",
    "        new_time = \"0{}:{}:00\".format(timeh, timem)\n",
    "    elif len(time) == 4:\n",
    "        if time != '2400':\n",
    "            timeh = time[0:2]\n",
    "            timem = time[2:]\n",
    "            new_time = \"{}:{}:00\".format(timeh, timem)\n",
    "        else:\n",
    "            new_time = \"00:00:00\"\n",
    "        \n",
    "    return new_time"
   ]
  },
  {
   "cell_type": "code",
   "execution_count": 230,
   "metadata": {},
   "outputs": [],
   "source": [
    "crs_dep_time_new = flights_master.crs_dep_time.apply(lambda x : str_to_time(x))\n",
    "dep_time_new = flights_master.dep_time.apply(lambda x : str_to_time(x))\n",
    "crs_arr_time_new = flights_master.crs_arr_time.apply(lambda x : str_to_time(x))\n",
    "arr_time_new = flights_master.arr_time.apply(lambda x : str_to_time(x))\n",
    "\n",
    "index = flights_master.columns.get_loc(\"crs_dep_time\")\n",
    "flights_master.insert(loc=index+1, column='crs_dep_time_new', value=crs_dep_time_new)\n",
    "\n",
    "index = flights_master.columns.get_loc(\"dep_time\")\n",
    "flights_master.insert(loc=index+1, column='dep_time_new', value=dep_time_new)\n",
    "\n",
    "index = flights_master.columns.get_loc(\"crs_arr_time\")\n",
    "flights_master.insert(loc=index+1, column='crs_arr_time_new', value=crs_arr_time_new)\n",
    "\n",
    "index = flights_master.columns.get_loc(\"arr_time\")\n",
    "flights_master.insert(loc=index+1, column='arr_time_new', value=arr_time_new)"
   ]
  },
  {
   "cell_type": "code",
   "execution_count": 231,
   "metadata": {},
   "outputs": [],
   "source": [
    "# reset the row index\n",
    "flights_master.index = range(flights_master.shape[0])"
   ]
  },
  {
   "cell_type": "code",
   "execution_count": null,
   "metadata": {},
   "outputs": [],
   "source": []
  },
  {
   "cell_type": "markdown",
   "metadata": {},
   "source": [
    "### What is the structure of your dataset?\n",
    "\n",
    "> Your answer here!\n",
    "\n",
    "### What is/are the main feature(s) of interest in your dataset?\n",
    "\n",
    "> Your answer here!\n",
    "\n",
    "### What features in the dataset do you think will help support your investigation into your feature(s) of interest?\n",
    "\n",
    "> Your answer here!"
   ]
  },
  {
   "cell_type": "markdown",
   "metadata": {},
   "source": [
    "## Univariate Exploration\n",
    "\n",
    "> In this section, investigate distributions of individual variables. If\n",
    "you see unusual points or outliers, take a deeper look to clean things up\n",
    "and prepare yourself to look at relationships between variables."
   ]
  },
  {
   "cell_type": "code",
   "execution_count": null,
   "metadata": {},
   "outputs": [],
   "source": []
  },
  {
   "cell_type": "markdown",
   "metadata": {},
   "source": [
    "> Make sure that, after every plot or related series of plots, that you\n",
    "include a Markdown cell with comments about what you observed, and what\n",
    "you plan on investigating next."
   ]
  },
  {
   "cell_type": "code",
   "execution_count": null,
   "metadata": {},
   "outputs": [],
   "source": []
  },
  {
   "cell_type": "markdown",
   "metadata": {},
   "source": [
    "### Discuss the distribution(s) of your variable(s) of interest. Were there any unusual points? Did you need to perform any transformations?\n",
    "\n",
    "> Your answer here!\n",
    "\n",
    "### Of the features you investigated, were there any unusual distributions? Did you perform any operations on the data to tidy, adjust, or change the form of the data? If so, why did you do this?\n",
    "\n",
    "> Your answer here!"
   ]
  },
  {
   "cell_type": "markdown",
   "metadata": {},
   "source": [
    "## Bivariate Exploration\n",
    "\n",
    "> In this section, investigate relationships between pairs of variables in your\n",
    "data. Make sure the variables that you cover here have been introduced in some\n",
    "fashion in the previous section (univariate exploration)."
   ]
  },
  {
   "cell_type": "code",
   "execution_count": null,
   "metadata": {},
   "outputs": [],
   "source": []
  },
  {
   "cell_type": "markdown",
   "metadata": {},
   "source": [
    "### Talk about some of the relationships you observed in this part of the investigation. How did the feature(s) of interest vary with other features in the dataset?\n",
    "\n",
    "> Your answer here!\n",
    "\n",
    "### Did you observe any interesting relationships between the other features (not the main feature(s) of interest)?\n",
    "\n",
    "> Your answer here!"
   ]
  },
  {
   "cell_type": "markdown",
   "metadata": {},
   "source": [
    "## Multivariate Exploration\n",
    "\n",
    "> Create plots of three or more variables to investigate your data even\n",
    "further. Make sure that your investigations are justified, and follow from\n",
    "your work in the previous sections."
   ]
  },
  {
   "cell_type": "code",
   "execution_count": null,
   "metadata": {},
   "outputs": [],
   "source": []
  },
  {
   "cell_type": "markdown",
   "metadata": {},
   "source": [
    "### Talk about some of the relationships you observed in this part of the investigation. Were there features that strengthened each other in terms of looking at your feature(s) of interest?\n",
    "\n",
    "> Your answer here!\n",
    "\n",
    "### Were there any interesting or surprising interactions between features?\n",
    "\n",
    "> Your answer here!"
   ]
  },
  {
   "cell_type": "markdown",
   "metadata": {},
   "source": [
    "> At the end of your report, make sure that you export the notebook as an\n",
    "html file from the `File > Download as... > HTML` menu. Make sure you keep\n",
    "track of where the exported file goes, so you can put it in the same folder\n",
    "as this notebook for project submission. Also, make sure you remove all of\n",
    "the quote-formatted guide notes like this one before you finish your report!"
   ]
  },
  {
   "cell_type": "code",
   "execution_count": null,
   "metadata": {},
   "outputs": [],
   "source": []
  }
 ],
 "metadata": {
  "kernelspec": {
   "display_name": "Python 3",
   "language": "python",
   "name": "python3"
  },
  "language_info": {
   "codemirror_mode": {
    "name": "ipython",
    "version": 3
   },
   "file_extension": ".py",
   "mimetype": "text/x-python",
   "name": "python",
   "nbconvert_exporter": "python",
   "pygments_lexer": "ipython3",
   "version": "3.7.6"
  }
 },
 "nbformat": 4,
 "nbformat_minor": 2
}
